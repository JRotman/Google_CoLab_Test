{
  "nbformat": 4,
  "nbformat_minor": 0,
  "metadata": {
    "colab": {
      "name": "Example.ipynb",
      "provenance": [],
      "authorship_tag": "ABX9TyMYDihYD4KCk8KTjQ7u6mBD",
      "include_colab_link": true
    },
    "kernelspec": {
      "name": "python3",
      "display_name": "Python 3"
    }
  },
  "cells": [
    {
      "cell_type": "markdown",
      "metadata": {
        "id": "view-in-github",
        "colab_type": "text"
      },
      "source": [
        "<a href=\"https://colab.research.google.com/github/JRotman/Google_CoLab_Test/blob/master/Example.ipynb\" target=\"_parent\"><img src=\"https://colab.research.google.com/assets/colab-badge.svg\" alt=\"Open In Colab\"/></a>"
      ]
    },
    {
      "cell_type": "markdown",
      "metadata": {
        "id": "QGoOIi4KwKjy",
        "colab_type": "text"
      },
      "source": [
        "# **Example Google CoLab Notebook**\n",
        "\n",
        "The notebook (file extension .ipynb) is a combination of both markdown and code"
      ]
    },
    {
      "cell_type": "code",
      "metadata": {
        "id": "6XremLgswCWn",
        "colab_type": "code",
        "colab": {
          "base_uri": "https://localhost:8080/",
          "height": 35
        },
        "outputId": "2dda643f-bd00-4bc6-ad32-90c7610e989d"
      },
      "source": [
        "print('Hello World')"
      ],
      "execution_count": 3,
      "outputs": [
        {
          "output_type": "stream",
          "text": [
            "Hello World\n"
          ],
          "name": "stdout"
        }
      ]
    },
    {
      "cell_type": "markdown",
      "metadata": {
        "id": "_eJ-SL7NzBee",
        "colab_type": "text"
      },
      "source": [
        "The above code block simply prints out 'Hello World'. You will notice that you can run this block individually by either clicking on the play button to its left (while it is selected) or by using the shortcut command-return or control-return. The output is then displayed below it."
      ]
    },
    {
      "cell_type": "code",
      "metadata": {
        "id": "DaDNmuBHbrtA",
        "colab_type": "code",
        "colab": {
          "base_uri": "https://localhost:8080/",
          "height": 73
        },
        "outputId": "34c10313-a388-47a3-f824-e09f0e3a56bc"
      },
      "source": [
        "import numpy as np\n",
        "from matplotlib import pyplot as plt\n",
        "import pandas as pd\n",
        "import seaborn as sns"
      ],
      "execution_count": 4,
      "outputs": [
        {
          "output_type": "stream",
          "text": [
            "/usr/local/lib/python3.6/dist-packages/statsmodels/tools/_testing.py:19: FutureWarning: pandas.util.testing is deprecated. Use the functions in the public API at pandas.testing instead.\n",
            "  import pandas.util.testing as tm\n"
          ],
          "name": "stderr"
        }
      ]
    }
  ]
}